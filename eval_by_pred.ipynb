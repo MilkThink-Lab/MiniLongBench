{
 "cells": [
  {
   "cell_type": "markdown",
   "id": "aeb0a714-9d15-41bc-ac06-ce5a1e448b1d",
   "metadata": {},
   "source": [
    "# Predict the scores of LLMs on the full LongBench benchmark\n",
    "\n",
    "In this notebook, we show how to obtain minilongbench socres by predicting the scores of LLMs on the full LongBench benchmark"
   ]
  },
  {
   "cell_type": "markdown",
   "id": "7008d96d-1ee5-44cf-91cb-293fb3e048bf",
   "metadata": {},
   "source": [
    "## Prepare data"
   ]
  },
  {
   "cell_type": "code",
   "execution_count": 1,
   "id": "7892164d-f5bb-4cef-9f4f-685a9af85679",
   "metadata": {},
   "outputs": [
    {
     "name": "stderr",
     "output_type": "stream",
     "text": [
      "<frozen importlib._bootstrap>:228: RuntimeWarning: scipy._lib.messagestream.MessageStream size changed, may indicate binary incompatibility. Expected 56 from C header, got 64 from PyObject\n"
     ]
    }
   ],
   "source": [
    "import numpy as np\n",
    "import pickle\n",
    "from tqdm import tqdm\n",
    "from sklearn.cluster import KMeans\n",
    "from sklearn.metrics.pairwise import pairwise_distances\n",
    "from irt import *\n",
    "from utils import *"
   ]
  },
  {
   "cell_type": "code",
   "execution_count": 2,
   "id": "26499fc1-2bda-44b2-9131-e78d16f7f77d",
   "metadata": {},
   "outputs": [
    {
     "data": {
      "text/plain": [
       "{'longbench': ['LongBench_2wikimqa',\n",
       "  'LongBench_dureader',\n",
       "  'LongBench_gov_report',\n",
       "  'LongBench_hotpotqa',\n",
       "  'LongBench_lcc',\n",
       "  'LongBench_lsht',\n",
       "  'LongBench_multifieldqa_en',\n",
       "  'LongBench_multifieldqa_zh',\n",
       "  'LongBench_multi_news',\n",
       "  'LongBench_musique',\n",
       "  'LongBench_narrativeqa',\n",
       "  'LongBench_passage_count',\n",
       "  'LongBench_passage_retrieval_en',\n",
       "  'LongBench_passage_retrieval_zh',\n",
       "  'LongBench_qasper',\n",
       "  'LongBench_qmsum',\n",
       "  'LongBench_repobench-p',\n",
       "  'LongBench_samsum',\n",
       "  'LongBench_trec',\n",
       "  'LongBench_triviaqa',\n",
       "  'LongBench_vcsum']}"
      ]
     },
     "execution_count": 2,
     "metadata": {},
     "output_type": "execute_result"
    }
   ],
   "source": [
    "to_handle_scenario = 'longbench'\n",
    "scenarios"
   ]
  },
  {
   "cell_type": "markdown",
   "id": "b34e5620-bd45-4985-b390-a154843b4d6c",
   "metadata": {},
   "source": [
    "Loading longbench test data:"
   ]
  },
  {
   "cell_type": "code",
   "execution_count": 3,
   "id": "2ca68f5c-49de-4f75-92e5-de639059cec1",
   "metadata": {},
   "outputs": [],
   "source": [
    "with open('data/longbench.pickle', 'rb') as handle:\n",
    "    data = pickle.load(handle)"
   ]
  },
  {
   "cell_type": "code",
   "execution_count": 4,
   "id": "ee09c25b-2dc4-4403-a972-9fb05cfe917b",
   "metadata": {},
   "outputs": [
    {
     "data": {
      "text/plain": [
       "(40, 4750)"
      ]
     },
     "execution_count": 4,
     "metadata": {},
     "output_type": "execute_result"
    }
   ],
   "source": [
    "scenarios_position, subscenarios_position = prepare_data(scenarios, data)\n",
    "Y = create_responses(scenarios, data)\n",
    "\n",
    "Y.shape"
   ]
  },
  {
   "cell_type": "code",
   "execution_count": 5,
   "id": "1f40fc53-b11e-41cc-adc2-7abff1a2b368",
   "metadata": {},
   "outputs": [],
   "source": [
    "balance_weights = np.ones(Y.shape[1])\n",
    "# per_scen indicates which scenario this document belongs to\n",
    "per_scen = [1, 1, 2, 1, 5, 3, 0, 0, 2, 1, 0, 4, 4, 4, 0, 2, 5, 3, 3, 3, 2]\n",
    "N = len(scenarios_position[to_handle_scenario])\n",
    "n_sub = len(scenarios[to_handle_scenario])\n",
    "for i, sub in enumerate(scenarios[to_handle_scenario]):\n",
    "    if per_scen[i] == 4:\n",
    "        num = 3\n",
    "    elif per_scen[i] == 5:\n",
    "        num = 2\n",
    "    else:\n",
    "        num = 4\n",
    "    n_i = len(subscenarios_position[to_handle_scenario][sub])\n",
    "    balance_weights[subscenarios_position[to_handle_scenario][sub]] = N/(num*6*n_i)  "
   ]
  },
  {
   "cell_type": "markdown",
   "id": "844c4412-ae69-4184-b106-191a1c151736",
   "metadata": {},
   "source": [
    "## Split the data in train and test"
   ]
  },
  {
   "cell_type": "code",
   "execution_count": 6,
   "id": "dc9874c5-7cb5-425b-8c41-9a87d7615ba2",
   "metadata": {},
   "outputs": [
    {
     "name": "stdout",
     "output_type": "stream",
     "text": [
      "(40, 4750) (20, 4750) (20, 4750)\n"
     ]
    }
   ],
   "source": [
    "train_idx = [32, 30, 25, 8, 0, 26, 7, 29, 12, 9, 23, 21, 1, 39, 6, 14, 11, 27, 20, 10]\n",
    "test_idx = [13, 34, 3, 38, 22, 24, 35, 37, 5, 4, 2, 19, 28, 33, 17, 18, 15, 36, 16, 31]\n",
    "\n",
    "Y_test = Y[test_idx]\n",
    "Y_train = Y[train_idx]\n",
    "Y_test_set = Y[test_idx]\n",
    "\n",
    "print(Y.shape, Y_train.shape, Y_test.shape)"
   ]
  },
  {
   "cell_type": "markdown",
   "id": "0e3f5948",
   "metadata": {},
   "source": [
    "## predict the scores of LLMs on the full LongBench benchmark\n",
    "\n",
    "By using the previously constructed model, we predict the scores of all LLMs, test LLMs, and training LLMs on Longbench, which will serve as the scores for minilongbench."
   ]
  },
  {
   "cell_type": "code",
   "execution_count": 7,
   "id": "28f4bbcd",
   "metadata": {},
   "outputs": [
    {
     "name": "stdout",
     "output_type": "stream",
     "text": [
      "[0.9667917448405254] [0.9624060150375938] [0.9849624060150375]\n",
      "[0.1462724171932862, 0.20236508990563512, 0.20702941585238147, 0.2461165981793714, 0.254060580089826, 0.2562535851176376, 0.26384002212403773, 0.25273784040704006, 0.26849787401355835, 0.25489545545538606, 0.2716078945889935, 0.2571147438514828, 0.28178350520295314, 0.2954944995934341, 0.3019402083182284, 0.3009922423102326, 0.2855651149890337, 0.3084157444643796, 0.3038842256561778, 0.36436433242249544] [0.16220883817237422, 0.22861466891008259, 0.2287018724646061, 0.26203051665900146, 0.27283129537498496, 0.2765144368268408, 0.2789991445277246, 0.2727940202053576, 0.2815015378117482, 0.26807161505418764, 0.2859295884488266, 0.2753977890536452, 0.28798126336894053, 0.29269813490741214, 0.3065134940163583, 0.3104894474313418, 0.30854571883991305, 0.32150792931739514, 0.32569253727399594, 0.3751365903795538]\n"
     ]
    }
   ],
   "source": [
    "# number_item = Y_train.shape[1]\n",
    "from scipy.stats import spearmanr, pearsonr, kendalltau\n",
    "\n",
    "scenario_dict = {\"Single-Document QA\":[\"LongBench_narrativeqa\", \"LongBench_qasper\", \"LongBench_multifieldqa_en\", \"LongBench_multifieldqa_zh\"],\n",
    "                \"Multi-Document QA\":[\"LongBench_hotpotqa\", \"LongBench_2wikimqa\", \"LongBench_musique\", \"LongBench_dureader\"],\n",
    "                \"Summarization\":[\"LongBench_gov_report\", \"LongBench_qmsum\", \"LongBench_vcsum\", \"LongBench_samsum\"],\n",
    "                \"Few-shot Learning\":[\"LongBench_trec\", \"LongBench_lsht\", \"LongBench_triviaqa\", \"LongBench_multi_news\"],\n",
    "                \"Code Completion\":[\"LongBench_lcc\", \"LongBench_repobench-p\"],\n",
    "                \"Synthetic Task\":[\"LongBench_passage_count\", \"LongBench_passage_retrieval_en\", \"LongBench_passage_retrieval_zh\"]}\n",
    "\n",
    "\n",
    "A, B, _ = load_irt_parameters('data/irt_model/')\n",
    "X = np.vstack((A.squeeze(), B.squeeze().reshape((1,-1)))).T\n",
    "# X = np.vstack((A.squeeze())).T\n",
    "X = X[scenarios_position['longbench']]\n",
    "norm_balance_weights = balance_weights[scenarios_position['longbench']]\n",
    "norm_balance_weights /= norm_balance_weights.sum()\n",
    "scenario = 'longbench'\n",
    "with open('data/sub_scenarios_pospos.pkl', 'rb') as f:\n",
    "    sub_scenarios_pospos = pickle.load(f)\n",
    "    \n",
    "whole_sp = []\n",
    "test_sp = []\n",
    "train_sp = []\n",
    "whole_error = []\n",
    "test_error = []\n",
    "train_error = []\n",
    "whole_sub_sp = [[] for i in range(6)]\n",
    "test_sub_sp = [[] for i in range(6)]\n",
    "train_sub_sp = [[] for i in range(6)]\n",
    "whole_sub_score = [[] for i in range(6)]\n",
    "test_sub_score = [[] for i in range(6)]\n",
    "train_sub_score = [[] for i in range(6)]\n",
    "whole_sub_pred_score = [[] for i in range(6)]\n",
    "test_sub_pred_score = [[] for i in range(6)]\n",
    "train_sub_pred_score = [[] for i in range(6)]\n",
    "\n",
    "ratio = 0.95\n",
    "number_item = int((1-ratio) * 4750)\n",
    "\n",
    "for e in range(3):\n",
    "    # eval on all LLMs\n",
    "    if e == 0:\n",
    "        Y_test = Y\n",
    "    # eval on test LLMs\n",
    "    elif e == 1:\n",
    "        Y_test = Y_test_set\n",
    "    # eval on train LLMs\n",
    "    else:\n",
    "        Y_test = Y_train\n",
    "\n",
    "    # Load the test cases of MiniLongBench\n",
    "    with open(\"data/anchor.pkl\", \"rb\") as f:\n",
    "        anchor_points = pickle.load(f)\n",
    "\n",
    "\n",
    "    for scenario in scenarios.keys():\n",
    "        Y_anchor = Y_test[:,scenarios_position[scenario]][:,anchor_points[scenario]]\n",
    "        true = (balance_weights*Y_test)[:,scenarios_position[scenario]].mean(axis=1) # True performance\n",
    "\n",
    "    # minilongbench test cases\n",
    "    seen_items = np.hstack([np.array(scenarios_position[scenario])[anchor_points[scenario]] for scenario in scenarios.keys()]).tolist()\n",
    "    unseen_items = [i for i in range(Y_train.shape[1]) if i not in seen_items]\n",
    "\n",
    "    # train the theta parameters of the LLM\n",
    "    thetas = [estimate_ability_parameters(Y_test[j][seen_items], A[:, :, seen_items], B[:, :, seen_items]) for j in range(Y_test.shape[0])]\n",
    "\n",
    "\n",
    "    preds = {}\n",
    "    pirt_preds = {}\n",
    "    for scenario in scenarios.keys():\n",
    "        if scenario != to_handle_scenario:\n",
    "            continue\n",
    "        ind_seen = [u for u in seen_items if u in scenarios_position[scenario]]\n",
    "        ind_unseen = [u for u in unseen_items if u in scenarios_position[scenario]]\n",
    "        pirt_lambd = Y_anchor.shape[1]/len(scenarios_position[scenario])\n",
    "\n",
    "        Y_pred = np.zeros_like(Y_test)\n",
    "        pirt_pred = []\n",
    "\n",
    "        # predict the scores of each LLM on Longbench\n",
    "        for j in range(Y_test.shape[0]):\n",
    "            Y_pred[j][ind_seen] = (Y_test)[j,ind_seen]\n",
    "            Y_pred[j][ind_unseen] = (item_curve(thetas[j], A, B))[0,ind_unseen]\n",
    "            data_part = (balance_weights*Y_test)[j,ind_seen].mean()\n",
    "            irt_part = (balance_weights*item_curve(thetas[j], A, B))[0,ind_unseen].mean()\n",
    "            pirt_pred.append(pirt_lambd*data_part + (1-pirt_lambd)*irt_part) \n",
    "\n",
    "        pirt_preds[scenario] = np.array(pirt_pred) # Predictions\n",
    "        pred_scores = (balance_weights*Y_pred)[:,scenarios_position[scenario]].mean(axis=1) # Pred performance\n",
    "        true = (balance_weights*Y_test)[:,scenarios_position[scenario]].mean(axis=1) # True performance\n",
    "\n",
    "\n",
    "        # calculate the Spearman rank correlation coefficient\n",
    "        spearman_corr, spearman_p_value = spearmanr(pred_scores, true)\n",
    "\n",
    "\n",
    "        if e == 0:\n",
    "            whole_sp.append(spearman_corr)\n",
    "            whole_error.append(np.abs(pirt_preds[scenario]-true).mean())\n",
    "        elif e == 1:\n",
    "            test_sp.append(spearman_corr)\n",
    "            test_error.append(np.abs(pirt_preds[scenario]-true).mean())\n",
    "        else:\n",
    "            train_sp.append(spearman_corr)\n",
    "            train_error.append(np.abs(pirt_preds[scenario]-true).mean())\n",
    "\n",
    "\n",
    "        # calculate the rank correlation coefficient for each sub-scenario.\n",
    "        sub_scenarios_scores = [[] for i in range(6)]\n",
    "        sub_scenarios_pred_scores = [[] for i in range(6)]\n",
    "        sub_scenarios_lens = [[] for i in range(6)]\n",
    "        sub_scenarios = list(scenario_dict.keys())\n",
    "        sub_sub_scenarios = list(scenario_dict.values())\n",
    "        for sub in scenarios[to_handle_scenario]:\n",
    "            for i in range(6):\n",
    "                if sub in sub_sub_scenarios[i]:\n",
    "                    idx = subscenarios_position[to_handle_scenario][sub]\n",
    "                    if len(sub_scenarios_scores[i]) == 0:\n",
    "                        sub_scenarios_scores[i] = Y_test[:, idx] \n",
    "                        sub_scenarios_pred_scores[i] = Y_pred[:, idx] \n",
    "                    else:\n",
    "                        sub_scenarios_scores[i] = np.concatenate((sub_scenarios_scores[i], Y_test[:, idx] ), axis=1)\n",
    "                        sub_scenarios_pred_scores[i] = np.concatenate((sub_scenarios_pred_scores[i], Y_pred[:, idx]), axis=1)\n",
    "                    sub_scenarios_lens[i].append(len(idx))\n",
    "                    break\n",
    "\n",
    "        for i in range(6):\n",
    "            tmp_score = sub_scenarios_pred_scores[i].mean(axis=1)\n",
    "            spearman_corr, spearman_p_value = spearmanr(sub_scenarios_scores[i].mean(axis=1), tmp_score)\n",
    "            if e == 0:\n",
    "                whole_sub_sp[i].append(spearman_corr)\n",
    "                whole_sub_score[i].append(sub_scenarios_scores[i].mean(axis=1))\n",
    "                whole_sub_pred_score[i].append(tmp_score)\n",
    "            elif e == 1:\n",
    "                test_sub_sp[i].append(spearman_corr)\n",
    "                test_sub_score[i].append(sub_scenarios_scores[i].mean(axis=1))\n",
    "                test_sub_pred_score[i].append(tmp_score)\n",
    "            else:\n",
    "                train_sub_sp[i].append(spearman_corr)\n",
    "                train_sub_score[i].append(sub_scenarios_scores[i].mean(axis=1))\n",
    "                train_sub_pred_score[i].append(tmp_score)\n",
    "print(whole_sp, test_sp, train_sp)\n",
    "print(list(pred_scores), list(true))"
   ]
  },
  {
   "cell_type": "code",
   "execution_count": 8,
   "id": "79b50047",
   "metadata": {},
   "outputs": [
    {
     "data": {
      "image/png": "[encoded data removed]",
      "text/plain": [
       "<Figure size 432x288 with 1 Axes>"
      ]
     },
     "metadata": {
      "needs_background": "light"
     },
     "output_type": "display_data"
    }
   ],
   "source": [
    "import matplotlib.pyplot as plt\n",
    "\n",
    "\n",
    "plt.figure(figsize=(6, 4)) \n",
    "plt.scatter(pred_scores, true, color='red', alpha=0.7, s=50, edgecolor='black', linewidth=0.5, label=f'sp = {train_sp}')\n",
    "\n",
    "\n",
    "plt.title('Comparison of LongBench Scores and MiniLongBench Scores', fontsize=14, fontweight='bold')\n",
    "plt.xlabel('MiniLongBench Scores', fontsize=12)\n",
    "plt.ylabel('LongBench Scores', fontsize=12)\n",
    "\n",
    "plt.grid(color='gray', linestyle='--', linewidth=0.5, alpha=0.7)\n",
    "plt.legend(fontsize=10, loc='upper left')\n",
    "\n",
    "plt.xticks(fontsize=10)\n",
    "plt.yticks(fontsize=10)\n",
    "\n",
    "plt.tight_layout()  \n",
    "plt.show()"
   ]
  },
  {
   "cell_type": "code",
   "execution_count": null,
   "id": "ed7147fb",
   "metadata": {},
   "outputs": [],
   "source": []
  }
 ],
 "metadata": {
  "kernelspec": {
   "display_name": "Python 3 (ipykernel)",
   "language": "python",
   "name": "python3"
  },
  "language_info": {
   "codemirror_mode": {
    "name": "ipython",
    "version": 3
   },
   "file_extension": ".py",
   "mimetype": "text/x-python",
   "name": "python",
   "nbconvert_exporter": "python",
   "pygments_lexer": "ipython3",
   "version": "3.9.12"
  }
 },
 "nbformat": 4,
 "nbformat_minor": 5
}
